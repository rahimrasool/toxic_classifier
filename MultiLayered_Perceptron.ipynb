{
  "nbformat": 4,
  "nbformat_minor": 0,
  "metadata": {
    "colab": {
      "name": "MultiLayered_Perceptron.ipynb",
      "provenance": [],
      "machine_shape": "hm"
    },
    "kernelspec": {
      "name": "python3",
      "display_name": "Python 3"
    },
    "language_info": {
      "name": "python"
    },
    "accelerator": "GPU"
  },
  "cells": [
    {
      "cell_type": "code",
      "execution_count": null,
      "metadata": {
        "colab": {
          "base_uri": "https://localhost:8080/"
        },
        "id": "AYZ8CefTFnrP",
        "outputId": "9e7ce58c-c331-4b27-e6e6-973c4b877174"
      },
      "outputs": [
        {
          "output_type": "stream",
          "name": "stdout",
          "text": [
            "Looking in indexes: https://pypi.org/simple, https://us-python.pkg.dev/colab-wheels/public/simple/\n",
            "Collecting torchtext==0.11.2\n",
            "  Downloading torchtext-0.11.2-cp37-cp37m-manylinux1_x86_64.whl (8.0 MB)\n",
            "\u001b[K     |████████████████████████████████| 8.0 MB 14.5 MB/s \n",
            "\u001b[?25hCollecting torch==1.10.2\n",
            "  Downloading torch-1.10.2-cp37-cp37m-manylinux1_x86_64.whl (881.9 MB)\n",
            "\u001b[K     |██████████████████████████████▎ | 834.1 MB 1.2 MB/s eta 0:00:41tcmalloc: large alloc 1147494400 bytes == 0x3934e000 @  0x7f43a2bc7615 0x592b76 0x4df71e 0x59afff 0x515655 0x549576 0x593fce 0x548ae9 0x51566f 0x549576 0x593fce 0x548ae9 0x5127f1 0x598e3b 0x511f68 0x598e3b 0x511f68 0x598e3b 0x511f68 0x4bc98a 0x532e76 0x594b72 0x515600 0x549576 0x593fce 0x548ae9 0x5127f1 0x549576 0x593fce 0x5118f8 0x593dd7\n",
            "\u001b[K     |████████████████████████████████| 881.9 MB 1.8 kB/s \n",
            "\u001b[?25hRequirement already satisfied: requests in /usr/local/lib/python3.7/dist-packages (from torchtext==0.11.2) (2.23.0)\n",
            "Requirement already satisfied: numpy in /usr/local/lib/python3.7/dist-packages (from torchtext==0.11.2) (1.21.6)\n",
            "Requirement already satisfied: tqdm in /usr/local/lib/python3.7/dist-packages (from torchtext==0.11.2) (4.64.0)\n",
            "Requirement already satisfied: typing-extensions in /usr/local/lib/python3.7/dist-packages (from torch==1.10.2->torchtext==0.11.2) (4.2.0)\n",
            "Requirement already satisfied: urllib3!=1.25.0,!=1.25.1,<1.26,>=1.21.1 in /usr/local/lib/python3.7/dist-packages (from requests->torchtext==0.11.2) (1.24.3)\n",
            "Requirement already satisfied: idna<3,>=2.5 in /usr/local/lib/python3.7/dist-packages (from requests->torchtext==0.11.2) (2.10)\n",
            "Requirement already satisfied: chardet<4,>=3.0.2 in /usr/local/lib/python3.7/dist-packages (from requests->torchtext==0.11.2) (3.0.4)\n",
            "Requirement already satisfied: certifi>=2017.4.17 in /usr/local/lib/python3.7/dist-packages (from requests->torchtext==0.11.2) (2022.5.18.1)\n",
            "Installing collected packages: torch, torchtext\n",
            "  Attempting uninstall: torch\n",
            "    Found existing installation: torch 1.11.0+cu113\n",
            "    Uninstalling torch-1.11.0+cu113:\n",
            "      Successfully uninstalled torch-1.11.0+cu113\n",
            "  Attempting uninstall: torchtext\n",
            "    Found existing installation: torchtext 0.12.0\n",
            "    Uninstalling torchtext-0.12.0:\n",
            "      Successfully uninstalled torchtext-0.12.0\n",
            "\u001b[31mERROR: pip's dependency resolver does not currently take into account all the packages that are installed. This behaviour is the source of the following dependency conflicts.\n",
            "torchvision 0.12.0+cu113 requires torch==1.11.0, but you have torch 1.10.2 which is incompatible.\n",
            "torchaudio 0.11.0+cu113 requires torch==1.11.0, but you have torch 1.10.2 which is incompatible.\u001b[0m\n",
            "Successfully installed torch-1.10.2 torchtext-0.11.2\n"
          ]
        }
      ],
      "source": [
        "!pip install torchtext==0.11.2"
      ]
    },
    {
      "cell_type": "code",
      "source": [
        "gpu_info = !nvidia-smi\n",
        "gpu_info = '\\n'.join(gpu_info)\n",
        "if gpu_info.find('failed') >= 0:\n",
        "  print('Not connected to a GPU')\n",
        "else:\n",
        "  print(gpu_info)"
      ],
      "metadata": {
        "colab": {
          "base_uri": "https://localhost:8080/"
        },
        "id": "ORcQHQIgfc6c",
        "outputId": "64aa6416-701a-4a58-ec5e-69dfb1446093"
      },
      "execution_count": null,
      "outputs": [
        {
          "output_type": "stream",
          "name": "stdout",
          "text": [
            "Tue May 24 09:06:39 2022       \n",
            "+-----------------------------------------------------------------------------+\n",
            "| NVIDIA-SMI 460.32.03    Driver Version: 460.32.03    CUDA Version: 11.2     |\n",
            "|-------------------------------+----------------------+----------------------+\n",
            "| GPU  Name        Persistence-M| Bus-Id        Disp.A | Volatile Uncorr. ECC |\n",
            "| Fan  Temp  Perf  Pwr:Usage/Cap|         Memory-Usage | GPU-Util  Compute M. |\n",
            "|                               |                      |               MIG M. |\n",
            "|===============================+======================+======================|\n",
            "|   0  Tesla T4            Off  | 00000000:00:04.0 Off |                    0 |\n",
            "| N/A   42C    P8    10W /  70W |      0MiB / 15109MiB |      0%      Default |\n",
            "|                               |                      |                  N/A |\n",
            "+-------------------------------+----------------------+----------------------+\n",
            "                                                                               \n",
            "+-----------------------------------------------------------------------------+\n",
            "| Processes:                                                                  |\n",
            "|  GPU   GI   CI        PID   Type   Process name                  GPU Memory |\n",
            "|        ID   ID                                                   Usage      |\n",
            "|=============================================================================|\n",
            "|  No running processes found                                                 |\n",
            "+-----------------------------------------------------------------------------+\n"
          ]
        }
      ]
    },
    {
      "cell_type": "code",
      "source": [
        "import torch\n",
        "import torchtext\n",
        "torch.__version__, torchtext.__version__"
      ],
      "metadata": {
        "colab": {
          "base_uri": "https://localhost:8080/"
        },
        "id": "tR1AEopwHLQD",
        "outputId": "1bed3a9c-544f-4162-dce9-c4109c3fad03"
      },
      "execution_count": null,
      "outputs": [
        {
          "output_type": "execute_result",
          "data": {
            "text/plain": [
              "('1.10.2+cu102', '0.11.2')"
            ]
          },
          "metadata": {},
          "execution_count": 3
        }
      ]
    },
    {
      "cell_type": "code",
      "source": [
        "import pandas as pd\n",
        "from collections import Counter\n",
        "import nltk\n",
        "nltk.download('punkt')\n",
        "import time\n",
        "import matplotlib.pyplot as plt\n",
        "%matplotlib inline\n",
        "\n",
        "import pandas as pd\n",
        "import numpy as np\n",
        "\n",
        "import torch.optim as optim\n",
        "from torch.utils.data import DataLoader\n",
        "from torch import nn\n",
        "import torch.nn.functional as F\n",
        "from torchtext.legacy import data\n",
        "\n",
        "from google.colab import drive \n",
        "drive.mount('/content/gdrive')\n",
        "PATH = \"gdrive/My Drive/project_data/\""
      ],
      "metadata": {
        "colab": {
          "base_uri": "https://localhost:8080/"
        },
        "id": "RkhS32N-HVmP",
        "outputId": "3816d7e8-73c0-4ca5-b898-c4da0c390c5e"
      },
      "execution_count": null,
      "outputs": [
        {
          "output_type": "stream",
          "name": "stdout",
          "text": [
            "[nltk_data] Downloading package punkt to /root/nltk_data...\n",
            "[nltk_data]   Unzipping tokenizers/punkt.zip.\n",
            "Mounted at /content/gdrive\n"
          ]
        }
      ]
    },
    {
      "cell_type": "code",
      "source": [
        "from torchtext.vocab import vocab\n",
        "from torch.utils.data import DataLoader\n",
        "from itertools import combinations\n",
        "from torchtext.vocab import GloVe"
      ],
      "metadata": {
        "id": "XbTiKGe3HVoX"
      },
      "execution_count": null,
      "outputs": []
    },
    {
      "cell_type": "code",
      "source": [
        "glove = GloVe(name='6B')"
      ],
      "metadata": {
        "colab": {
          "base_uri": "https://localhost:8080/"
        },
        "id": "imma_uPDLthJ",
        "outputId": "f2c0e30d-f525-4fa2-b770-1991aefefc67"
      },
      "execution_count": null,
      "outputs": [
        {
          "output_type": "stream",
          "name": "stderr",
          "text": [
            ".vector_cache/glove.6B.zip: 862MB [02:42, 5.29MB/s]                           \n",
            "100%|█████████▉| 399999/400000 [00:35<00:00, 11155.76it/s]\n"
          ]
        }
      ]
    },
    {
      "cell_type": "code",
      "source": [
        "SEED = 1515\n",
        "\n",
        "#random.seed(SEED)\n",
        "np.random.seed(SEED)\n",
        "torch.manual_seed(SEED)\n",
        "if torch.cuda.is_available():\n",
        "    torch.cuda.manual_seed(1515)\n",
        "torch.backends.cudnn.deterministic = True"
      ],
      "metadata": {
        "id": "BlT9ryXEHVqO"
      },
      "execution_count": null,
      "outputs": []
    },
    {
      "cell_type": "code",
      "source": [
        "device = torch.device('cuda' if torch.cuda.is_available() else 'cpu')\n",
        "device"
      ],
      "metadata": {
        "colab": {
          "base_uri": "https://localhost:8080/"
        },
        "id": "TMeYfRqvHVsP",
        "outputId": "a2e614d6-7e8f-4054-d62d-5bd3bce6adac"
      },
      "execution_count": null,
      "outputs": [
        {
          "output_type": "execute_result",
          "data": {
            "text/plain": [
              "device(type='cuda')"
            ]
          },
          "metadata": {},
          "execution_count": 8
        }
      ]
    },
    {
      "cell_type": "code",
      "source": [
        "df = pd.read_csv(PATH+'train.csv')"
      ],
      "metadata": {
        "id": "Oq4M3ObwHaLp"
      },
      "execution_count": null,
      "outputs": []
    },
    {
      "cell_type": "code",
      "source": [
        "df['toxic'] = np.where(df['target'] > 0.5, 1, 0)\n",
        "data = df[['comment_text','toxic']]"
      ],
      "metadata": {
        "id": "PWo0HoVdK3jk"
      },
      "execution_count": null,
      "outputs": []
    },
    {
      "cell_type": "code",
      "source": [
        "from sklearn.model_selection import train_test_split\n",
        "train, val = train_test_split(data, test_size=0.2)"
      ],
      "metadata": {
        "id": "CV_BAdY5O3fg"
      },
      "execution_count": null,
      "outputs": []
    },
    {
      "cell_type": "code",
      "source": [
        "def custom_tokenize(text):\n",
        "    if not text:\n",
        "        return ''\n",
        "    return nltk.word_tokenize(text.lower())"
      ],
      "metadata": {
        "id": "m_482DntK3hr"
      },
      "execution_count": null,
      "outputs": []
    },
    {
      "cell_type": "code",
      "source": [
        "train = list(train.to_records(index=False))\n",
        "val = list(val.to_records(index=False))"
      ],
      "metadata": {
        "id": "A_r6j2lfK3fq"
      },
      "execution_count": null,
      "outputs": []
    },
    {
      "cell_type": "code",
      "source": [
        "def collate_into_cbow(batch):    \n",
        "    label_vec = []\n",
        "    cbow_vec = []\n",
        "    for idx, (txt, l) in enumerate(batch):\n",
        "        label_vec.append(l)\n",
        "        tokenized = custom_tokenize(txt)\n",
        "        vecs = glove.get_vecs_by_tokens(tokenized)\n",
        "        c_vecs = torch.div(vecs.sum(dim=0), vecs.size()[0])\n",
        "        c_vecs = c_vecs.unsqueeze(0)\n",
        "        if idx == 0:\n",
        "            cbow_vec = c_vecs\n",
        "        else:\n",
        "            cbow_vec = torch.cat([cbow_vec, c_vecs])\n",
        "\n",
        "    labels = torch.tensor(label_vec)    \n",
        "    return cbow_vec.to(device), labels.to(device)"
      ],
      "metadata": {
        "id": "YZeZk93aK3bi"
      },
      "execution_count": null,
      "outputs": []
    },
    {
      "cell_type": "code",
      "source": [
        "train_cbow = DataLoader(train, batch_size=64, shuffle=False, \n",
        "                        collate_fn=collate_into_cbow)\n",
        "\n",
        "val_cbow = DataLoader(train, batch_size=64, shuffle=False, \n",
        "                        collate_fn=collate_into_cbow)\n",
        "\n",
        "for idx, (lt, tt) in enumerate(train_cbow):\n",
        "    print(idx, lt.shape, tt.shape)\n",
        "    if idx == 2: break"
      ],
      "metadata": {
        "colab": {
          "base_uri": "https://localhost:8080/"
        },
        "id": "rAmBC0gAHaRt",
        "outputId": "10ad36e7-2ba2-4f6c-dd8e-4461693233ac"
      },
      "execution_count": null,
      "outputs": [
        {
          "output_type": "stream",
          "name": "stdout",
          "text": [
            "0 torch.Size([64, 300]) torch.Size([64])\n",
            "1 torch.Size([64, 300]) torch.Size([64])\n",
            "2 torch.Size([64, 300]) torch.Size([64])\n"
          ]
        }
      ]
    },
    {
      "cell_type": "code",
      "source": [
        "from torch import nn\n",
        "import torch.nn.functional as F\n",
        "\n",
        "# task 6\n",
        "class cBoWClassifier(nn.Module):\n",
        "    \n",
        "    def __init__(self, num_labels, vocab_size):\n",
        "        super(cBoWClassifier, self).__init__()\n",
        "        self.nonlinearity = nn.Tanh()\n",
        "        self.linear = nn.Linear(vocab_size, 200)\n",
        "        self.hidden_1 = nn.Linear(200, 100)\n",
        "        self.hidden_2 = nn.Linear(100, 50)\n",
        "        self.hidden_3 = nn.Linear(50, num_labels)\n",
        "        \n",
        "\n",
        "    def forward(self, bow_vec):\n",
        "        out = self.nonlinearity(self.linear(bow_vec))\n",
        "        out = self.nonlinearity(self.hidden_1(out))\n",
        "        out = self.nonlinearity(self.hidden_2(out))\n",
        "        return F.log_softmax(self.hidden_3(out), dim=1)  "
      ],
      "metadata": {
        "id": "1Za9FzJeHaTq"
      },
      "execution_count": null,
      "outputs": []
    },
    {
      "cell_type": "code",
      "source": [
        "BATCH_SIZE = 64\n",
        "num_labels = 2\n",
        "vocab_size = 300\n",
        "model = cBoWClassifier(num_labels, vocab_size).to(device)"
      ],
      "metadata": {
        "id": "xRQSQAZQHaVo"
      },
      "execution_count": null,
      "outputs": []
    },
    {
      "cell_type": "code",
      "source": [
        "def get_accuracy(dataloader):\n",
        "    model.eval()\n",
        "    with torch.no_grad():\n",
        "        correct_pred = 0\n",
        "        total_samples = 0\n",
        "        for idx, (text, label) in enumerate(dataloader):\n",
        "            total_samples += text.size()[0]\n",
        "            log_probs = model(text)\n",
        "            predictions = torch.argmax(log_probs, dim=1)\n",
        "            correct_pred += torch.eq(predictions, label).long().sum().item()\n",
        "    return correct_pred/total_samples"
      ],
      "metadata": {
        "id": "IdiKrDT1TtJZ"
      },
      "execution_count": null,
      "outputs": []
    },
    {
      "cell_type": "code",
      "source": [
        "import time\n",
        "\n",
        "loss_function = torch.nn.NLLLoss()\n",
        "\n",
        "def train_an_epoch(dataloader):\n",
        "    model.train() # Sets the module in training mode.\n",
        "    log_interval = 5000\n",
        "\n",
        "    for idx, (text, label) in enumerate(dataloader):\n",
        "        model.zero_grad()\n",
        "        log_probs = model(text)\n",
        "        loss = loss_function(log_probs, label)\n",
        "        loss.backward()\n",
        "        optimizer.step()\n",
        "        if idx % log_interval == 0 and idx > 0:\n",
        "            print(f'At iteration {idx} the loss is {loss:.3f}.')"
      ],
      "metadata": {
        "id": "RLoBmZVkT04X"
      },
      "execution_count": null,
      "outputs": []
    },
    {
      "cell_type": "code",
      "source": [
        "import matplotlib.pyplot as plt\n",
        "%matplotlib inline\n",
        "\n",
        "EPOCHS = 5 # epoch\n",
        "optimizer = torch.optim.SGD(model.parameters(), lr=3)\n",
        "\n",
        "accuracies=[]\n",
        "for epoch in range(1, EPOCHS + 1):\n",
        "    epoch_start_time = time.time()\n",
        "    train_an_epoch(train_cbow)\n",
        "    accuracy = get_accuracy(val_cbow)\n",
        "    accuracies.append(accuracy)\n",
        "    time_taken = time.time() - epoch_start_time\n",
        "    print()\n",
        "    print(f'After epoch {epoch} the validation accuracy is {accuracy:.3f}.')\n",
        "    print()\n",
        "    \n",
        "plt.plot(range(1, EPOCHS+1), accuracies)"
      ],
      "metadata": {
        "colab": {
          "base_uri": "https://localhost:8080/",
          "height": 890
        },
        "id": "yTIb8L7BT3Rj",
        "outputId": "d2972362-8f1b-425c-cf21-da8d43b05794"
      },
      "execution_count": null,
      "outputs": [
        {
          "output_type": "stream",
          "name": "stdout",
          "text": [
            "At iteration 5000 the loss is 5.923.\n",
            "At iteration 10000 the loss is 8.361.\n",
            "At iteration 15000 the loss is 7.290.\n",
            "At iteration 20000 the loss is 13.343.\n",
            "\n",
            "After epoch 1 the validation accuracy is 0.941.\n",
            "\n",
            "At iteration 5000 the loss is 10.327.\n",
            "At iteration 10000 the loss is 0.672.\n",
            "At iteration 15000 the loss is 11.680.\n",
            "At iteration 20000 the loss is 9.770.\n",
            "\n",
            "After epoch 2 the validation accuracy is 0.941.\n",
            "\n",
            "At iteration 5000 the loss is 8.238.\n",
            "At iteration 10000 the loss is 4.496.\n",
            "At iteration 15000 the loss is 11.784.\n",
            "At iteration 20000 the loss is 13.113.\n",
            "\n",
            "After epoch 3 the validation accuracy is 0.941.\n",
            "\n",
            "At iteration 5000 the loss is 5.042.\n",
            "At iteration 10000 the loss is 4.695.\n",
            "At iteration 15000 the loss is 2.810.\n",
            "At iteration 20000 the loss is 11.254.\n",
            "\n",
            "After epoch 4 the validation accuracy is 0.941.\n",
            "\n",
            "At iteration 5000 the loss is 5.046.\n",
            "At iteration 10000 the loss is 3.970.\n",
            "At iteration 15000 the loss is 3.227.\n",
            "At iteration 20000 the loss is 1.718.\n",
            "\n",
            "After epoch 5 the validation accuracy is 0.941.\n",
            "\n"
          ]
        },
        {
          "output_type": "execute_result",
          "data": {
            "text/plain": [
              "[<matplotlib.lines.Line2D at 0x7f3cb48cacd0>]"
            ]
          },
          "metadata": {},
          "execution_count": 25
        },
        {
          "output_type": "display_data",
          "data": {
            "text/plain": [
              "<Figure size 432x288 with 1 Axes>"
            ],
            "image/png": "[encoded data removed]"
          },
          "metadata": {
            "needs_background": "light"
          }
        }
      ]
    },
    {
      "cell_type": "code",
      "source": [
        ""
      ],
      "metadata": {
        "id": "dCJ_4OERURwf"
      },
      "execution_count": null,
      "outputs": []
    }
  ]
}